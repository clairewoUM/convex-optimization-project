{
 "cells": [
  {
   "cell_type": "code",
   "execution_count": 1,
   "metadata": {},
   "outputs": [],
   "source": [
    "import project_problems as prob\n",
    "import algorithms \n",
    "from optSolver import optSolver_SUU511 as optSolver\n",
    "import numpy as np\n",
    "import matplotlib.pyplot as plt\n",
    "import logging\n",
    "logging.basicConfig(filename='intermediate.log',level=logging.DEBUG, filemode='w')\n",
    "\n",
    "## Define three class objects required in 'optSolver' and their attributes \n",
    "class Problem:\n",
    "    def __init__(self,name,x0,n,compute_f,compute_g,compute_H):\n",
    "        self.name = name\n",
    "        self.x0 = x0\n",
    "        self.n = n\n",
    "        self.compute_f = compute_f\n",
    "        self.compute_g = compute_g\n",
    "        self.compute_H = compute_H\n",
    "\n",
    "class Method:\n",
    "    def __init__(self,name, hess_mode=0, m=10):\n",
    "        '''\n",
    "        hess_mode: hessian approximation\n",
    "        - default: identity\n",
    "        - 'T' : textbook version\n",
    "        - scalar: identity * scalar\n",
    "        '''\n",
    "        self.name = name\n",
    "        self.hess_mode = hess_mode #Hessian approximation. default: identity, 'T': textbook\n",
    "        self.m = m  # LBFGS: memory length\n",
    "        \n",
    "class Options:\n",
    "    def __init__(self,term_tol = 1e-6, max_iterations = 1e3, c_1_ls = 0.1, c_2_ls = 0.2, c_1_tr = 0.3, c_2_tr = 0.7, term_tol_CG = 1e-6, max_iterations_CG=1e3):\n",
    "        '''\n",
    "        alpha: initial alpha(Line Search)\n",
    "        tau: Armijo Wolfe Condition parameter\n",
    "        c_1_ls: parameter for Sufficient Decrease condition(Line Search)\n",
    "        c_2_ls: parameter for curvature condition(Line Search)\n",
    "        c_1_tr, c_2_tr: parameter for radius udpate in TR algorithms\n",
    "        '''\n",
    "\n",
    "        self.term_tol = term_tol\n",
    "        self.max_iterations = max_iterations  \n",
    "        self.c_1_ls = c_1_ls    # Line Search parameters\n",
    "        self.c_2_ls = c_2_ls    # Line Search parameters\n",
    "        self.c_1_tr = c_1_tr    # parameters for TR radius update\n",
    "        self.c_2_tr = c_2_tr    # parameters for TR radius update\n",
    "        self.term_tol_CG = term_tol_CG\n",
    "        self.max_iterations_CG = max_iterations_CG\n",
    "\n",
    "# Set-up methods & options\n",
    "method = Method('NewtonW')"
   ]
  },
  {
   "cell_type": "code",
   "execution_count": 2,
   "metadata": {},
   "outputs": [
    {
     "name": "stdout",
     "output_type": "stream",
     "text": [
      "[0.99999989 0.99999977]\n",
      "2.0952961841231417e-14\n"
     ]
    }
   ],
   "source": [
    "# Problem 7\n",
    "x07 = np.array([-1.2, 1])\n",
    "problem7 = Problem('p7_rosenbrock_2', x07, len(x07), prob.rosenbrock_2_func, prob.rosenbrock_2_grad, prob.rosenbrock_2_Hess)\n",
    "options1 = Options(c_1_ls=0.01, c_2_ls=0.4)\n",
    "\n",
    "x, f = optSolver(problem7, method, options1)\n",
    "print(x)\n",
    "print(f)"
   ]
  },
  {
   "cell_type": "code",
   "execution_count": 3,
   "metadata": {},
   "outputs": [
    {
     "name": "stdout",
     "output_type": "stream",
     "text": [
      "[-0.9932861   0.99665108  0.99833032  0.99916774  0.9995852   0.99979328\n",
      "  0.99989698  0.99994866  0.99997441  0.99998725  0.99999365  0.99999683\n",
      "  0.99999842  0.99999921  0.99999961  0.9999998   0.9999999   0.99999995\n",
      "  0.99999998  0.99999999  0.99999999  1.          1.          1.\n",
      "  1.          1.          1.          1.          1.          1.\n",
      "  1.          1.          1.          1.          1.          1.\n",
      "  1.          1.          1.          1.          1.          1.\n",
      "  1.          1.          1.          1.          1.          1.\n",
      "  1.          1.          1.          1.          1.          1.\n",
      "  1.          1.          1.          1.          1.          1.\n",
      "  1.          1.          1.          1.          1.          1.\n",
      "  1.          1.          1.          1.          1.          1.\n",
      "  1.          1.          1.          1.          1.          1.\n",
      "  1.          1.          1.          1.          1.          1.\n",
      "  1.          1.          1.          1.          1.          1.\n",
      "  1.          1.          1.          1.          1.          1.\n",
      "  1.          1.          1.          1.        ]\n",
      "3.9866238543009347\n"
     ]
    }
   ],
   "source": [
    "# Problem 8\n",
    "x08 = np.append([-1.2], np.ones(99))\n",
    "problem8 = Problem('p8_rosenbrock_100', x08, len(x08), prob.rosenbrock_100_func, prob.rosenbrock_100_grad, prob.rosenbrock_100_Hess)\n",
    "options2 = Options(c_1_ls=0.1, c_2_ls=0.3)\n",
    "\n",
    "x, f = optSolver(problem8, method, options2)\n",
    "print(x)\n",
    "print(f)"
   ]
  }
 ],
 "metadata": {
  "kernelspec": {
   "display_name": "py39",
   "language": "python",
   "name": "python3"
  },
  "language_info": {
   "codemirror_mode": {
    "name": "ipython",
    "version": 3
   },
   "file_extension": ".py",
   "mimetype": "text/x-python",
   "name": "python",
   "nbconvert_exporter": "python",
   "pygments_lexer": "ipython3",
   "version": "3.9.6"
  },
  "orig_nbformat": 4
 },
 "nbformat": 4,
 "nbformat_minor": 2
}
