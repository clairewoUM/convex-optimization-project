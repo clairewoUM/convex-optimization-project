{
 "cells": [
  {
   "cell_type": "code",
   "execution_count": 1,
   "metadata": {},
   "outputs": [],
   "source": [
    "import project_problems as prob\n",
    "import algorithms \n",
    "from optSolver import optSolver_SUU511 as optSolver\n",
    "import numpy as np\n",
    "import matplotlib.pyplot as plt\n",
    "import logging\n",
    "logging.basicConfig(filename='intermediate.log',level=logging.DEBUG, filemode='w')\n",
    "\n",
    "## Define three class objects required in 'optSolver' and their attributes \n",
    "class Problem:\n",
    "    def __init__(self,name,x0,n,compute_f,compute_g,compute_H):\n",
    "        self.name = name\n",
    "        self.x0 = x0\n",
    "        self.n = n\n",
    "        self.compute_f = compute_f\n",
    "        self.compute_g = compute_g\n",
    "        self.compute_H = compute_H\n",
    "\n",
    "class Method:\n",
    "    def __init__(self,name, hess_mode=0, m=10):\n",
    "        '''\n",
    "        hess_mode: hessian approximation\n",
    "        - default: identity\n",
    "        - 'T' : textbook version\n",
    "        - scalar: identity * scalar\n",
    "        '''\n",
    "        self.name = name\n",
    "        self.hess_mode = hess_mode #Hessian approximation. default: identity, 'T': textbook\n",
    "        self.m = m  # LBFGS: memory length\n",
    "        \n",
    "class Options:\n",
    "    def __init__(self,term_tol = 1e-6, max_iterations = 1e3, c_1_ls = 0.1, c_2_ls = 0.2, c_1_tr = 0.3, c_2_tr = 0.7, term_tol_CG = 1e-6, max_iterations_CG=1e3):\n",
    "        '''\n",
    "        alpha: initial alpha(Line Search)\n",
    "        tau: Armijo Wolfe Condition parameter\n",
    "        c_1_ls: parameter for Sufficient Decrease condition(Line Search)\n",
    "        c_2_ls: parameter for curvature condition(Line Search)\n",
    "        c_1_tr, c_2_tr: parameter for radius udpate in TR algorithms\n",
    "        '''\n",
    "\n",
    "        self.term_tol = term_tol\n",
    "        self.max_iterations = max_iterations  \n",
    "        self.c_1_ls = c_1_ls    # Line Search parameters\n",
    "        self.c_2_ls = c_2_ls    # Line Search parameters\n",
    "        self.c_1_tr = c_1_tr    # parameters for TR radius update\n",
    "        self.c_2_tr = c_2_tr    # parameters for TR radius update\n",
    "        self.term_tol_CG = term_tol_CG\n",
    "        self.max_iterations_CG = max_iterations_CG\n",
    "\n",
    "# Set-up methods & options\n",
    "method1 = Method('GradientDescent')\n",
    "method2 = Method('GradientDescentW')\n",
    "method3 = Method('Newton')\n",
    "method4 = Method('NewtonW')\n",
    "method5 = Method('TRNewtonCG')\n",
    "method6 = Method('TRSR1CG')\n",
    "method7 = Method('BFGS')\n",
    "method8 = Method('BFGSW')\n",
    "method9 = Method('DFP')\n",
    "method10 = Method('DFPW')\n",
    "\n",
    "options = Options()"
   ]
  },
  {
   "cell_type": "code",
   "execution_count": 2,
   "metadata": {},
   "outputs": [
    {
     "name": "stdout",
     "output_type": "stream",
     "text": [
      "[-24.70881607] [-24.70881607] [-24.70881607] [-24.70881607] [-24.70881607] [-24.70881607] [-24.70881607] [-24.70881607] [-24.70881607] [-24.70881607]\n"
     ]
    }
   ],
   "source": [
    "# Problem1\n",
    "# Problem setup\n",
    "x0 = 20 * np.random.rand(10, 1)-10\n",
    "problem1 = Problem('quad_10_10',x0,len(x0), prob.quad_10_10_func, prob.quad_10_10_grad, prob.quad_10_10_Hess)\n",
    "\n",
    "x1, f1 = optSolver(problem1, method1, options)\n",
    "x2, f2 = optSolver(problem1, method2, options)\n",
    "x3, f3 = optSolver(problem1, method3, options)\n",
    "x4, f4 = optSolver(problem1, method4, options)\n",
    "x5, f5 = optSolver(problem1, method5, options)\n",
    "x6, f6 = optSolver(problem1, method6, options)\n",
    "x7, f7 = optSolver(problem1, method7, options)\n",
    "x8, f8 = optSolver(problem1, method8, options)\n",
    "x9, f9 = optSolver(problem1, method9, options)\n",
    "x10, f10 = optSolver(problem1, method10, options)\n",
    "\n",
    "print(f1, f2, f3, f4, f5, f6, f7, f8, f9, f10)"
   ]
  },
  {
   "cell_type": "code",
   "execution_count": 3,
   "metadata": {},
   "outputs": [
    {
     "name": "stdout",
     "output_type": "stream",
     "text": [
      "[-666.81594715] [-673.62852287] [-673.62852288] [-673.62852288] [[-673.62852288]] [-673.62852288] [-673.62852288] [-673.62852288] [-673.24085676] [-673.62852288]\n"
     ]
    }
   ],
   "source": [
    "# Problem2\n",
    "# Problem setup\n",
    "x0 = 20 * np.random.rand(10, 1)-10\n",
    "problem2 = Problem('quad_10_1000',x0,len(x0), prob.quad_10_1000_func, prob.quad_10_1000_grad, prob.quad_10_1000_Hess)\n",
    "\n",
    "x1, f1 = optSolver(problem2, method1, options)\n",
    "x2, f2 = optSolver(problem2, method2, options)\n",
    "x3, f3 = optSolver(problem2, method3, options)\n",
    "x4, f4 = optSolver(problem2, method4, options)\n",
    "x5, f5 = optSolver(problem2, method5, options)\n",
    "x6, f6 = optSolver(problem2, method6, options)\n",
    "x7, f7 = optSolver(problem2, method7, options)\n",
    "x8, f8 = optSolver(problem2, method8, options)\n",
    "x9, f9 = optSolver(problem2, method9, options)\n",
    "x10, f10 = optSolver(problem2, method10, options)\n",
    "\n",
    "print(f1, f2, f3, f4, f5, f6, f7, f8, f9, f10)"
   ]
  },
  {
   "cell_type": "code",
   "execution_count": null,
   "metadata": {},
   "outputs": [],
   "source": [
    "# Problem3\n",
    "x0 = 20 * np.random.rand(1000, 1)-10\n",
    "problem3 = Problem('quad_1000_10',x0,len(x0), prob.quad_1000_10_func, prob.quad_1000_10_grad, prob.quad_1000_10_Hess)\n",
    "\n",
    "x1, f1 = optSolver(problem3, method1, options)\n",
    "x2, f2 = optSolver(problem3, method2, options)\n",
    "x3, f3 = optSolver(problem3, method3, options)\n",
    "x4, f4 = optSolver(problem3, method4, options)\n",
    "x5, f5 = optSolver(problem3, method5, options)\n",
    "x6, f6 = optSolver(problem3, method6, options)\n",
    "x7, f7 = optSolver(problem3, method7, options)\n",
    "x8, f8 = optSolver(problem3, method8, options)\n",
    "x9, f9 = optSolver(problem3, method9, options)\n",
    "x10, f10 = optSolver(problem3, method10, options)\n",
    "\n",
    "print(f1, f2, f3, f4, f5, f6, f7, f8, f9, f10)"
   ]
  },
  {
   "cell_type": "code",
   "execution_count": null,
   "metadata": {},
   "outputs": [],
   "source": [
    "# Problem 4\n",
    "x0 = 20 * np.random.rand(1000, 1)-10\n",
    "problem4 = Problem('quad_1000_1000',x0,len(x0), prob.quad_1000_1000_func, prob.quad_1000_1000_grad, prob.quad_1000_1000_Hess)\n",
    "x1, f1 = optSolver(problem4, method1, options)\n",
    "x2, f2 = optSolver(problem4, method1, options)\n",
    "x3, f3 = optSolver(problem4, method1, options)\n",
    "x4, f4 = optSolver(problem4, method1, options)\n",
    "x5, f5 = optSolver(problem4, method1, options)\n",
    "x6, f6 = optSolver(problem4, method1, options)\n",
    "x7, f7 = optSolver(problem4, method1, options)\n",
    "x8, f8 = optSolver(problem4, method1, options)\n",
    "x9, f9 = optSolver(problem4, method1, options)\n",
    "x10, f10 = optSolver(problem4, method1, options)\n",
    "\n",
    "print(f1, f2, f3, f4, f5, f6, f7, f8, f9, f10)"
   ]
  },
  {
   "cell_type": "code",
   "execution_count": 4,
   "metadata": {},
   "outputs": [
    {
     "name": "stdout",
     "output_type": "stream",
     "text": [
      "2.670959050465488e-20 2.670959050465488e-20 2.5532909937988486e-20 2.5532909937988486e-20 6.458332361530669e-30 1.199330861824411e-13 1.3153896184434597e-19 1.3153896184434597e-19 1.3003686511310583e-19 1.3003686511310583e-19\n"
     ]
    }
   ],
   "source": [
    "# Problem 5\n",
    "x05 = np.array([np.cos(7/18 * np.pi), np.sin(7/18 * np.pi), np.cos(7/18 * np.pi), np.sin(7/18 * np.pi)])\n",
    "problem5 = Problem('p5_quartic_1', x05, len(x05), prob.quartic_1_func, prob.quartic_1_grad, prob.quartic_1_Hess)\n",
    "\n",
    "x1, f1 = optSolver(problem5, method1, options)\n",
    "x2, f2 = optSolver(problem5, method2, options)\n",
    "x3, f3 = optSolver(problem5, method3, options)\n",
    "x4, f4 = optSolver(problem5, method4, options)\n",
    "x5, f5 = optSolver(problem5, method5, options)\n",
    "x6, f6 = optSolver(problem5, method6, options)\n",
    "x7, f7 = optSolver(problem5, method7, options)\n",
    "x8, f8 = optSolver(problem5, method8, options)\n",
    "x9, f9 = optSolver(problem5, method9, options)\n",
    "x10, f10 = optSolver(problem5, method10, options)\n",
    "\n",
    "print(f1, f2, f3, f4, f5, f6, f7, f8, f9, f10)"
   ]
  },
  {
   "cell_type": "code",
   "execution_count": 7,
   "metadata": {},
   "outputs": [
    {
     "name": "stdout",
     "output_type": "stream",
     "text": [
      "0.0007511954981451693 0.0007511954981451693 0.0005660299414790043 0.0005660299414790043 0.0005660299414789934 0.001512677067245071 0.000956860580124284 0.0015306862479472984 0.0024478964116523877 0.0014626570600072483\n"
     ]
    }
   ],
   "source": [
    "# Problem 6\n",
    "x06 = np.array([np.cos(7/18 * np.pi), np.sin(7/18 * np.pi), np.cos(7/18 * np.pi), np.sin(7/18 * np.pi)])\n",
    "problem6 = Problem('p6_quartic_2', x06, len(x06), prob.quartic_2_func, prob.quartic_2_grad, prob.quartic_2_Hess)\n",
    "\n",
    "x1, f1 = optSolver(problem6, method1, options)\n",
    "x2, f2 = optSolver(problem6, method2, options)\n",
    "x3, f3 = optSolver(problem6, method3, options)\n",
    "x4, f4 = optSolver(problem6, method4, options)\n",
    "x5, f5 = optSolver(problem6, method5, options)\n",
    "x6, f6 = optSolver(problem6, method6, options)\n",
    "x7, f7 = optSolver(problem6, method7, options)\n",
    "x8, f8 = optSolver(problem6, method8, options)\n",
    "x9, f9 = optSolver(problem6, method9, options)\n",
    "x10, f10 = optSolver(problem6, method10, options)\n",
    "\n",
    "print(f1, f2, f3, f4, f5, f6, f7, f8, f9, f10)"
   ]
  },
  {
   "cell_type": "code",
   "execution_count": 8,
   "metadata": {},
   "outputs": [
    {
     "name": "stdout",
     "output_type": "stream",
     "text": [
      "7.423846427594876e-06 1.85705675565978e-05 2.7542127055244784e-13 9.945211519993363e-13 1.0611413034983129e-13 4.059231919714377e-11 1.8660373251714287e-13 7.671628801129413e-12 1.4292214728919454e-12 1.017526327255256e-11\n"
     ]
    }
   ],
   "source": [
    "# Problem 7\n",
    "x07 = np.array([-1.2, 1])\n",
    "problem7 = Problem('p7_rosenbrock_2', x07, len(x07), prob.rosenbrock_2_func, prob.rosenbrock_2_grad, prob.rosenbrock_2_Hess)\n",
    "\n",
    "x1, f1 = optSolver(problem7, method1, options)\n",
    "x2, f2 = optSolver(problem7, method2, options)\n",
    "x3, f3 = optSolver(problem7, method3, options)\n",
    "x4, f4 = optSolver(problem7, method4, options)\n",
    "x5, f5 = optSolver(problem7, method5, options)\n",
    "x6, f6 = optSolver(problem7, method6, options)\n",
    "x7, f7 = optSolver(problem7, method7, options)\n",
    "x8, f8 = optSolver(problem7, method8, options)\n",
    "x9, f9 = optSolver(problem7, method9, options)\n",
    "x10, f10 = optSolver(problem7, method10, options)\n",
    "\n",
    "print(f1, f2, f3, f4, f5, f6, f7, f8, f9, f10)"
   ]
  },
  {
   "cell_type": "code",
   "execution_count": 9,
   "metadata": {},
   "outputs": [
    {
     "name": "stdout",
     "output_type": "stream",
     "text": [
      "3.9866238544026023 3.9866238544026023 3.9866238543009347 3.9866238543009347 3.9866238543009334 3.9866238543106585 3.9866238544781334 3.9866238544781334 3.9866238543010875 3.9866238543010875\n"
     ]
    }
   ],
   "source": [
    "# Problem 8\n",
    "x08 = np.append([-1.2], np.ones(99))\n",
    "problem8 = Problem('p8_rosenbrock_100', x08, len(x08), prob.rosenbrock_100_func, prob.rosenbrock_100_grad, prob.rosenbrock_100_Hess)\n",
    "\n",
    "x1, f1 = optSolver(problem8, method1, options)\n",
    "x2, f2 = optSolver(problem8, method2, options)\n",
    "x3, f3 = optSolver(problem8, method3, options)\n",
    "x4, f4 = optSolver(problem8, method4, options)\n",
    "x5, f5 = optSolver(problem8, method5, options)\n",
    "x6, f6 = optSolver(problem8, method6, options)\n",
    "x7, f7 = optSolver(problem8, method7, options)\n",
    "x8, f8 = optSolver(problem8, method8, options)\n",
    "x9, f9 = optSolver(problem8, method9, options)\n",
    "x10, f10 = optSolver(problem8, method10, options)\n",
    "\n",
    "print(f1, f2, f3, f4, f5, f6, f7, f8, f9, f10)"
   ]
  },
  {
   "cell_type": "code",
   "execution_count": 10,
   "metadata": {},
   "outputs": [
    {
     "name": "stdout",
     "output_type": "stream",
     "text": [
      "1.0087979651625497e-09 1.1188846099736171e-09 6.656552220356818e-11 4.550907435945254e-11 5.612279146874399e-11 7.27707240454366e-12 3.802134376077239e-12 9.313025401346462e-15 3.7153153593889593e-10 7.82985258793293e-15\n"
     ]
    }
   ],
   "source": [
    "# Problem 9\n",
    "x09 = np.array([1, 1])\n",
    "problem9 = Problem('p9_datafit_2', x09, len(x09), prob.datafit_2_func, prob.datafit_2_grad, prob.datafit_2_Hess)\n",
    "\n",
    "x1, f1 = optSolver(problem9, method1, options)\n",
    "x2, f2 = optSolver(problem9, method2, options)\n",
    "x3, f3 = optSolver(problem9, method3, options)\n",
    "x4, f4 = optSolver(problem9, method4, options)\n",
    "x5, f5 = optSolver(problem9, method5, options)\n",
    "x6, f6 = optSolver(problem9, method6, options)\n",
    "x7, f7 = optSolver(problem9, method7, options)\n",
    "x8, f8 = optSolver(problem9, method8, options)\n",
    "x9, f9 = optSolver(problem9, method9, options)\n",
    "x10, f10 = optSolver(problem9, method10, options)\n",
    "\n",
    "print(f1, f2, f3, f4, f5, f6, f7, f8, f9, f10)"
   ]
  },
  {
   "cell_type": "code",
   "execution_count": 11,
   "metadata": {},
   "outputs": [
    {
     "name": "stdout",
     "output_type": "stream",
     "text": [
      "-0.2055728089957351 -0.20557280898911084 -0.2055727775670166 -0.20557280886644247 -0.20557277833424237 -0.20557272882945568 -0.20557279674894144 -0.20557279674582707 -0.20557279670828973 -0.2055727967051039\n"
     ]
    }
   ],
   "source": [
    "# Problem 10\n",
    "x010 = np.append([1], np.zeros(9))\n",
    "problem10 = Problem('p10_exponential_10', x010, len(x010), prob.exponential_10_func, prob.exponential_10_grad, prob.exponential_10_Hess)\n",
    "\n",
    "x1, f1 = optSolver(problem10, method1, options)\n",
    "x2, f2 = optSolver(problem10, method2, options)\n",
    "x3, f3 = optSolver(problem10, method3, options)\n",
    "x4, f4 = optSolver(problem10, method4, options)\n",
    "x5, f5 = optSolver(problem10, method5, options)\n",
    "x6, f6 = optSolver(problem10, method6, options)\n",
    "x7, f7 = optSolver(problem10, method7, options)\n",
    "x8, f8 = optSolver(problem10, method8, options)\n",
    "x9, f9 = optSolver(problem10, method9, options)\n",
    "x10, f10 = optSolver(problem10, method10, options)\n",
    "\n",
    "print(f1, f2, f3, f4, f5, f6, f7, f8, f9, f10)"
   ]
  },
  {
   "cell_type": "code",
   "execution_count": 12,
   "metadata": {},
   "outputs": [
    {
     "name": "stdout",
     "output_type": "stream",
     "text": [
      "-0.2055728089957351 -0.20557280898911084 -0.20556935579096994 -0.20557280875467412 -0.20556594033942982 -0.20557278987141686 -0.20557280900007513 -0.20557280899946545 -0.20557280900007519 -0.205572808999465\n"
     ]
    }
   ],
   "source": [
    "# Problem 11\n",
    "x011 = np.append([1], np.zeros(999))\n",
    "problem11 = Problem('p11_exponential_1000', x011,len(x011), prob.exponential_1000_func, prob.exponential_1000_grad, prob.exponential_1000_Hess)\n",
    "\n",
    "x1, f1 = optSolver(problem11, method1, options)\n",
    "x2, f2 = optSolver(problem11, method2, options)\n",
    "x3, f3 = optSolver(problem11, method3, options)\n",
    "x4, f4 = optSolver(problem11, method4, options)\n",
    "x5, f5 = optSolver(problem11, method5, options)\n",
    "x6, f6 = optSolver(problem11, method6, options)\n",
    "x7, f7 = optSolver(problem11, method7, options)\n",
    "x8, f8 = optSolver(problem11, method8, options)\n",
    "x9, f9 = optSolver(problem11, method9, options)\n",
    "x10, f10 = optSolver(problem11, method10, options)\n",
    "\n",
    "print(f1, f2, f3, f4, f5, f6, f7, f8, f9, f10)"
   ]
  },
  {
   "cell_type": "code",
   "execution_count": 13,
   "metadata": {},
   "outputs": [
    {
     "name": "stdout",
     "output_type": "stream",
     "text": [
      "8.718411444473856e-08 3.67919506054761e-08 2.0931504557185954e-11 2.6454479493447622e-14 2.6653047914562595e-08 4.3037677711719246e-08 1.629009244537522e-08 8.943159635597927e-09 1.3773642854819703 4.451527221516179e-08\n"
     ]
    }
   ],
   "source": [
    "# Problem 12\n",
    "x012 = np.array([-506.2, 506.2, 506.2, 506.2, 506.2])\n",
    "problem12 = Problem('p12_genhumps_5',x012, len(x012), prob.genhumps_5_func, prob.genhumps_5_grad, prob.genhumps_5_Hess)\n",
    "\n",
    "x1, f1 = optSolver(problem12, method1, options)\n",
    "x2, f2 = optSolver(problem12, method2, options)\n",
    "x3, f3 = optSolver(problem12, method3, options)\n",
    "x4, f4 = optSolver(problem12, method4, options)\n",
    "x5, f5 = optSolver(problem12, method5, options)\n",
    "x6, f6 = optSolver(problem12, method6, options)\n",
    "x7, f7 = optSolver(problem12, method7, options)\n",
    "x8, f8 = optSolver(problem12, method8, options)\n",
    "x9, f9 = optSolver(problem12, method9, options)\n",
    "x10, f10 = optSolver(problem12, method10, options)\n",
    "\n",
    "print(f1, f2, f3, f4, f5, f6, f7, f8, f9, f10)"
   ]
  }
 ],
 "metadata": {
  "kernelspec": {
   "display_name": "py39",
   "language": "python",
   "name": "python3"
  },
  "language_info": {
   "codemirror_mode": {
    "name": "ipython",
    "version": 3
   },
   "file_extension": ".py",
   "mimetype": "text/x-python",
   "name": "python",
   "nbconvert_exporter": "python",
   "pygments_lexer": "ipython3",
   "version": "3.9.6"
  },
  "orig_nbformat": 4
 },
 "nbformat": 4,
 "nbformat_minor": 2
}
